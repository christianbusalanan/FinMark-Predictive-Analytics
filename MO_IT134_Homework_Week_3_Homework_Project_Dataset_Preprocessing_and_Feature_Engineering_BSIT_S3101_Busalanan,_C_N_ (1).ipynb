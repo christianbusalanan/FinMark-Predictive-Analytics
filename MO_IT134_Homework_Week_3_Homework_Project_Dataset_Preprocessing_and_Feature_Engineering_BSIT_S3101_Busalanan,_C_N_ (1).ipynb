{
 "cells": [
  {
   "cell_type": "markdown",
   "metadata": {
    "id": "owr1zj7rG_5r"
   },
   "source": [
    "#**Welcome to FinMark Solutions**\n",
    "\n",
    "At FinMark Corporaton, we specialize in offering a wide range of services designed to empower businesses with the insights and strategies needed to succeed in today's competitive market. Our core services include financial analysis, marketing analytics, and business intelligence. We are dedicated to serving small and medium enterprises (SMEs) across Southeast Asia, helping them optimize their marketing strategies and financial planning through advanced data analytics.\n",
    "\n",
    "**Problem Statement:** FinMark Corporation uses manual methods for sales forecasting and analysis and customer segmentation. As the company grows, this approach can’t keep up with the increasing data, causing delays and missed opportunities.\n",
    "\n",
    "**Project Deliverables:** As their data analyst, the company wants you, to automate these processes using machine learning and predictive analytics to improve efficiency and adapt quickly to market changes."
   ]
  },
  {
   "cell_type": "markdown",
   "metadata": {
    "id": "kWgPEDP_pEeX"
   },
   "source": [
    "## **CUSTOMER DATA**"
   ]
  },
  {
   "cell_type": "code",
   "execution_count": 1,
   "metadata": {
    "id": "TQp9vuIEjZZi"
   },
   "outputs": [],
   "source": [
    "# Importing Necessary libraries\n",
    "import pandas as pd\n",
    "import numpy as np\n",
    "from sklearn.model_selection import train_test_split\n",
    "from sklearn.preprocessing import LabelEncoder, StandardScaler\n",
    "from sklearn.ensemble import RandomForestClassifier\n",
    "from sklearn.metrics import accuracy_score\n",
    "import seaborn as sns\n",
    "import matplotlib.pyplot as plt"
   ]
  },
  {
   "cell_type": "markdown",
   "metadata": {
    "id": "XYdQBALLIUbs"
   },
   "source": [
    "1. Load Datasets"
   ]
  },
  {
   "cell_type": "code",
   "execution_count": 2,
   "metadata": {
    "id": "fc0lhafoj5VX"
   },
   "outputs": [],
   "source": [
    "customers = pd.read_csv('customers_data.csv')\n",
    "products = pd.read_csv('products_data.csv')\n",
    "transactions = pd.read_csv('transactions_data.csv')"
   ]
  },
  {
   "cell_type": "markdown",
   "metadata": {
    "id": "m6W3QK2zIaH0"
   },
   "source": [
    "2. Preprocess Customer Data"
   ]
  },
  {
   "cell_type": "code",
   "execution_count": 3,
   "metadata": {
    "colab": {
     "base_uri": "https://localhost:8080/"
    },
    "id": "QPsnV-DgrHIt",
    "outputId": "51f68e6d-c853-4dff-de0f-d52255f8353b"
   },
   "outputs": [],
   "source": [
    "# Fill missing values in Company_Profit with median\n",
    "customers[\"Company_Profit\"].fillna(customers[\"Company_Profit\"].median(), inplace=True)"
   ]
  },
  {
   "cell_type": "code",
   "execution_count": 4,
   "metadata": {
    "id": "6nNL8okgkBDL"
   },
   "outputs": [],
   "source": [
    "# Extract city from the Address column\n",
    "customers['Address'] = customers['Address'].str.split(',').str[2].str.strip().str.upper()"
   ]
  },
  {
   "cell_type": "code",
   "execution_count": 5,
   "metadata": {
    "id": "50oMQkGJkHy7"
   },
   "outputs": [],
   "source": [
    "#Imputing missing company ID\n",
    "company_id=[]\n",
    "for i in range(1, len(customers)+1):\n",
    "  company_id.append(i)\n",
    "\n",
    "customers['Company_ID']= company_id"
   ]
  },
  {
   "cell_type": "code",
   "execution_count": 6,
   "metadata": {
    "colab": {
     "base_uri": "https://localhost:8080/",
     "height": 206
    },
    "id": "h75CRzz7LrTL",
    "outputId": "6e9d5d7d-1fc3-4875-c047-b1a38d755536"
   },
   "outputs": [
    {
     "data": {
      "text/html": [
       "<div>\n",
       "<style scoped>\n",
       "    .dataframe tbody tr th:only-of-type {\n",
       "        vertical-align: middle;\n",
       "    }\n",
       "\n",
       "    .dataframe tbody tr th {\n",
       "        vertical-align: top;\n",
       "    }\n",
       "\n",
       "    .dataframe thead th {\n",
       "        text-align: right;\n",
       "    }\n",
       "</style>\n",
       "<table border=\"1\" class=\"dataframe\">\n",
       "  <thead>\n",
       "    <tr style=\"text-align: right;\">\n",
       "      <th></th>\n",
       "      <th>Company_ID</th>\n",
       "      <th>Company_Name</th>\n",
       "      <th>Company_Profit</th>\n",
       "      <th>Address</th>\n",
       "    </tr>\n",
       "  </thead>\n",
       "  <tbody>\n",
       "    <tr>\n",
       "      <th>0</th>\n",
       "      <td>1</td>\n",
       "      <td>Tech  Enterprises  1</td>\n",
       "      <td>80701.0</td>\n",
       "      <td>PASIG</td>\n",
       "    </tr>\n",
       "    <tr>\n",
       "      <th>1</th>\n",
       "      <td>2</td>\n",
       "      <td>Global  Partners  2</td>\n",
       "      <td>80511.0</td>\n",
       "      <td>TAGUIG</td>\n",
       "    </tr>\n",
       "    <tr>\n",
       "      <th>2</th>\n",
       "      <td>3</td>\n",
       "      <td>Quantum Associates 3</td>\n",
       "      <td>110664.0</td>\n",
       "      <td>PASIG</td>\n",
       "    </tr>\n",
       "    <tr>\n",
       "      <th>3</th>\n",
       "      <td>4</td>\n",
       "      <td>Prime Network 4</td>\n",
       "      <td>75301.5</td>\n",
       "      <td>TAGUIG</td>\n",
       "    </tr>\n",
       "    <tr>\n",
       "      <th>4</th>\n",
       "      <td>5</td>\n",
       "      <td>Elite  Ventures  5</td>\n",
       "      <td>69427.0</td>\n",
       "      <td>MAKATI</td>\n",
       "    </tr>\n",
       "  </tbody>\n",
       "</table>\n",
       "</div>"
      ],
      "text/plain": [
       "   Company_ID          Company_Name  Company_Profit Address\n",
       "0           1  Tech  Enterprises  1         80701.0   PASIG\n",
       "1           2   Global  Partners  2         80511.0  TAGUIG\n",
       "2           3  Quantum Associates 3        110664.0   PASIG\n",
       "3           4       Prime Network 4         75301.5  TAGUIG\n",
       "4           5    Elite  Ventures  5         69427.0  MAKATI"
      ]
     },
     "execution_count": 6,
     "metadata": {},
     "output_type": "execute_result"
    }
   ],
   "source": [
    "customers.head()"
   ]
  },
  {
   "cell_type": "code",
   "execution_count": 7,
   "metadata": {
    "colab": {
     "base_uri": "https://localhost:8080/"
    },
    "id": "VSsg2dRQLx0E",
    "outputId": "46d8165e-7173-48c3-c85f-9aac46915b30"
   },
   "outputs": [
    {
     "name": "stdout",
     "output_type": "stream",
     "text": [
      "<class 'pandas.core.frame.DataFrame'>\n",
      "RangeIndex: 100 entries, 0 to 99\n",
      "Data columns (total 4 columns):\n",
      " #   Column          Non-Null Count  Dtype  \n",
      "---  ------          --------------  -----  \n",
      " 0   Company_ID      100 non-null    int64  \n",
      " 1   Company_Name    100 non-null    object \n",
      " 2   Company_Profit  100 non-null    float64\n",
      " 3   Address         100 non-null    object \n",
      "dtypes: float64(1), int64(1), object(2)\n",
      "memory usage: 3.2+ KB\n"
     ]
    }
   ],
   "source": [
    "customers.info()"
   ]
  },
  {
   "cell_type": "markdown",
   "metadata": {
    "id": "0DNqWVQ7qcpn"
   },
   "source": [
    "## **PRODUCTS DATA**"
   ]
  },
  {
   "cell_type": "markdown",
   "metadata": {
    "id": "JJAsRrAkP130"
   },
   "source": [
    "3. Preprocess Products Data"
   ]
  },
  {
   "cell_type": "code",
   "execution_count": 8,
   "metadata": {
    "id": "6urZw6mJrfkU"
   },
   "outputs": [],
   "source": [
    "#Imputing missing product ID\n",
    "product_id= []\n",
    "for i in range(1, len(products)+1):\n",
    "  product_id.append(i)\n",
    "\n",
    "products['Product_ID']= product_id"
   ]
  },
  {
   "cell_type": "code",
   "execution_count": 9,
   "metadata": {
    "id": "C5rOvBZgpW4c"
   },
   "outputs": [],
   "source": [
    "# Clean and convert Product_Price to integer\n",
    "products['Product_Price'] = products['Product_Price'].str.replace('?', '').str.replace(',', '').astype(int)"
   ]
  },
  {
   "cell_type": "code",
   "execution_count": 10,
   "metadata": {
    "colab": {
     "base_uri": "https://localhost:8080/"
    },
    "id": "Wp9temdHML3i",
    "outputId": "01535ada-940c-4f95-9a30-8aae2a7c0ff5"
   },
   "outputs": [
    {
     "name": "stdout",
     "output_type": "stream",
     "text": [
      "<class 'pandas.core.frame.DataFrame'>\n",
      "RangeIndex: 20 entries, 0 to 19\n",
      "Data columns (total 3 columns):\n",
      " #   Column         Non-Null Count  Dtype \n",
      "---  ------         --------------  ----- \n",
      " 0   Product_ID     20 non-null     int64 \n",
      " 1   Product_Name   20 non-null     object\n",
      " 2   Product_Price  20 non-null     int32 \n",
      "dtypes: int32(1), int64(1), object(1)\n",
      "memory usage: 528.0+ bytes\n"
     ]
    }
   ],
   "source": [
    "products.info()"
   ]
  },
  {
   "cell_type": "code",
   "execution_count": 11,
   "metadata": {
    "colab": {
     "base_uri": "https://localhost:8080/",
     "height": 206
    },
    "id": "hHhEyJD3MKR7",
    "outputId": "da36decd-d17d-4914-fdd2-6d7d368c4ac1"
   },
   "outputs": [
    {
     "data": {
      "text/html": [
       "<div>\n",
       "<style scoped>\n",
       "    .dataframe tbody tr th:only-of-type {\n",
       "        vertical-align: middle;\n",
       "    }\n",
       "\n",
       "    .dataframe tbody tr th {\n",
       "        vertical-align: top;\n",
       "    }\n",
       "\n",
       "    .dataframe thead th {\n",
       "        text-align: right;\n",
       "    }\n",
       "</style>\n",
       "<table border=\"1\" class=\"dataframe\">\n",
       "  <thead>\n",
       "    <tr style=\"text-align: right;\">\n",
       "      <th></th>\n",
       "      <th>Product_ID</th>\n",
       "      <th>Product_Name</th>\n",
       "      <th>Product_Price</th>\n",
       "    </tr>\n",
       "  </thead>\n",
       "  <tbody>\n",
       "    <tr>\n",
       "      <th>0</th>\n",
       "      <td>1</td>\n",
       "      <td>FinPredictor Suite</td>\n",
       "      <td>140000</td>\n",
       "    </tr>\n",
       "    <tr>\n",
       "      <th>1</th>\n",
       "      <td>2</td>\n",
       "      <td>MarketMinder Analytics</td>\n",
       "      <td>168000</td>\n",
       "    </tr>\n",
       "    <tr>\n",
       "      <th>2</th>\n",
       "      <td>3</td>\n",
       "      <td>TrendWise Forecaster</td>\n",
       "      <td>100800</td>\n",
       "    </tr>\n",
       "    <tr>\n",
       "      <th>3</th>\n",
       "      <td>4</td>\n",
       "      <td>CustomerScope Insights</td>\n",
       "      <td>123200</td>\n",
       "    </tr>\n",
       "    <tr>\n",
       "      <th>4</th>\n",
       "      <td>5</td>\n",
       "      <td>SalesSync Optimizer</td>\n",
       "      <td>84000</td>\n",
       "    </tr>\n",
       "  </tbody>\n",
       "</table>\n",
       "</div>"
      ],
      "text/plain": [
       "   Product_ID            Product_Name  Product_Price\n",
       "0           1      FinPredictor Suite         140000\n",
       "1           2  MarketMinder Analytics         168000\n",
       "2           3    TrendWise Forecaster         100800\n",
       "3           4  CustomerScope Insights         123200\n",
       "4           5     SalesSync Optimizer          84000"
      ]
     },
     "execution_count": 11,
     "metadata": {},
     "output_type": "execute_result"
    }
   ],
   "source": [
    "products.head()"
   ]
  },
  {
   "cell_type": "markdown",
   "metadata": {
    "id": "Rk0YymX2vBH1"
   },
   "source": [
    "## **TRANSACTION DATA**"
   ]
  },
  {
   "cell_type": "markdown",
   "metadata": {
    "id": "Vliw4huhP5Qi"
   },
   "source": [
    "4. Preprocess Transaction Data"
   ]
  },
  {
   "cell_type": "code",
   "execution_count": 12,
   "metadata": {
    "colab": {
     "base_uri": "https://localhost:8080/",
     "height": 206
    },
    "id": "TVtOQlMKhnr9",
    "outputId": "3f2e4450-0825-4a02-8082-c103adf0d846"
   },
   "outputs": [
    {
     "data": {
      "text/html": [
       "<div>\n",
       "<style scoped>\n",
       "    .dataframe tbody tr th:only-of-type {\n",
       "        vertical-align: middle;\n",
       "    }\n",
       "\n",
       "    .dataframe tbody tr th {\n",
       "        vertical-align: top;\n",
       "    }\n",
       "\n",
       "    .dataframe thead th {\n",
       "        text-align: right;\n",
       "    }\n",
       "</style>\n",
       "<table border=\"1\" class=\"dataframe\">\n",
       "  <thead>\n",
       "    <tr style=\"text-align: right;\">\n",
       "      <th></th>\n",
       "      <th>Unnamed: 0</th>\n",
       "      <th>Transaction_ID</th>\n",
       "      <th>Company_ID</th>\n",
       "      <th>Product_ID</th>\n",
       "      <th>Quantity</th>\n",
       "      <th>Transaction_Date</th>\n",
       "      <th>Product_Price</th>\n",
       "      <th>Total_Cost</th>\n",
       "    </tr>\n",
       "  </thead>\n",
       "  <tbody>\n",
       "    <tr>\n",
       "      <th>0</th>\n",
       "      <td>0.0</td>\n",
       "      <td>1.0</td>\n",
       "      <td>88.0</td>\n",
       "      <td>6.0</td>\n",
       "      <td>NaN</td>\n",
       "      <td>2024/03/26</td>\n",
       "      <td>194379.147964</td>\n",
       "      <td>1075200.0</td>\n",
       "    </tr>\n",
       "    <tr>\n",
       "      <th>1</th>\n",
       "      <td>1.0</td>\n",
       "      <td>2.0</td>\n",
       "      <td>29.0</td>\n",
       "      <td>19.0</td>\n",
       "      <td>16.0</td>\n",
       "      <td>July 09, 2024</td>\n",
       "      <td>97930.993380</td>\n",
       "      <td>1428000.0</td>\n",
       "    </tr>\n",
       "    <tr>\n",
       "      <th>2</th>\n",
       "      <td>2.0</td>\n",
       "      <td>NaN</td>\n",
       "      <td>28.0</td>\n",
       "      <td>18.0</td>\n",
       "      <td>6.0</td>\n",
       "      <td>04/13/2024</td>\n",
       "      <td>126095.547778</td>\n",
       "      <td>940800.0</td>\n",
       "    </tr>\n",
       "    <tr>\n",
       "      <th>3</th>\n",
       "      <td>3.0</td>\n",
       "      <td>4.0</td>\n",
       "      <td>85.0</td>\n",
       "      <td>12.0</td>\n",
       "      <td>12.0</td>\n",
       "      <td>09-06-2023</td>\n",
       "      <td>NaN</td>\n",
       "      <td>1008000.0</td>\n",
       "    </tr>\n",
       "    <tr>\n",
       "      <th>4</th>\n",
       "      <td>4.0</td>\n",
       "      <td>5.0</td>\n",
       "      <td>47.0</td>\n",
       "      <td>3.0</td>\n",
       "      <td>8.0</td>\n",
       "      <td>07/06/2021</td>\n",
       "      <td>99575.609634</td>\n",
       "      <td>705600.0</td>\n",
       "    </tr>\n",
       "  </tbody>\n",
       "</table>\n",
       "</div>"
      ],
      "text/plain": [
       "   Unnamed: 0  Transaction_ID  Company_ID  Product_ID  Quantity  \\\n",
       "0         0.0             1.0        88.0         6.0       NaN   \n",
       "1         1.0             2.0        29.0        19.0      16.0   \n",
       "2         2.0             NaN        28.0        18.0       6.0   \n",
       "3         3.0             4.0        85.0        12.0      12.0   \n",
       "4         4.0             5.0        47.0         3.0       8.0   \n",
       "\n",
       "  Transaction_Date  Product_Price  Total_Cost  \n",
       "0       2024/03/26  194379.147964   1075200.0  \n",
       "1    July 09, 2024   97930.993380   1428000.0  \n",
       "2       04/13/2024  126095.547778    940800.0  \n",
       "3       09-06-2023            NaN   1008000.0  \n",
       "4       07/06/2021   99575.609634    705600.0  "
      ]
     },
     "execution_count": 12,
     "metadata": {},
     "output_type": "execute_result"
    }
   ],
   "source": [
    "transactions.head()"
   ]
  },
  {
   "cell_type": "code",
   "execution_count": 13,
   "metadata": {
    "id": "XTxKOdvAk1MY"
   },
   "outputs": [],
   "source": [
    "# Drop unnecessary columns\n",
    "transactions.drop(columns=['Unnamed: 0', 'Transaction_ID'], inplace=True)"
   ]
  },
  {
   "cell_type": "code",
   "execution_count": 14,
   "metadata": {
    "id": "BY7YVZdwk-Ea"
   },
   "outputs": [],
   "source": [
    "# Merge transactions with customers and products data\n",
    "df = transactions.merge(products, on='Product_ID').merge(customers, on='Company_ID')"
   ]
  },
  {
   "cell_type": "code",
   "execution_count": 15,
   "metadata": {
    "id": "7tnBRbjyk-mK"
   },
   "outputs": [],
   "source": [
    "# Keep only relevant columns\n",
    "df= df[['Transaction_Date','Company_Name', 'Product_Name', 'Address', 'Product_Price_y', 'Quantity', 'Total_Cost']]"
   ]
  },
  {
   "cell_type": "code",
   "execution_count": 16,
   "metadata": {
    "id": "IzMvamzlnVUA"
   },
   "outputs": [],
   "source": [
    "# Convert Transaction_Date to datetime format\n",
    "df['Transaction_Date'] = pd.to_datetime(df['Transaction_Date'], format= 'mixed')\n",
    "# Extract time-based features\n",
    "df['Month'] = df['Transaction_Date'].dt.month\n",
    "df['Day'] = df['Transaction_Date'].dt.day\n",
    "df['Year'] = df['Transaction_Date'].dt.year"
   ]
  },
  {
   "cell_type": "code",
   "execution_count": 17,
   "metadata": {
    "id": "__W6_AQ0P_a1"
   },
   "outputs": [],
   "source": [
    "# Fill missing Total_Cost values based on Quantity * Product_Price\n",
    "df['Total_Cost'] = df['Total_Cost'].fillna(df['Product_Price_y'] * df['Quantity'])"
   ]
  },
  {
   "cell_type": "code",
   "execution_count": 18,
   "metadata": {
    "id": "_WGfvsjiQC70"
   },
   "outputs": [],
   "source": [
    "# Recalculate Quantity where necessary\n",
    "df['Quantity'] = df['Total_Cost'] / df['Product_Price_y']"
   ]
  },
  {
   "cell_type": "code",
   "execution_count": 19,
   "metadata": {
    "id": "b3-pwsw2QcTr"
   },
   "outputs": [],
   "source": [
    "# Drop redundant columns\n",
    "df.drop(columns=['Transaction_Date'], inplace=True)"
   ]
  },
  {
   "cell_type": "code",
   "execution_count": 20,
   "metadata": {
    "id": "UbiXfsqfQfbT"
   },
   "outputs": [],
   "source": [
    "# Remove rows with missing Quantity or Total_Cost\n",
    "df.dropna(subset=['Quantity', 'Total_Cost'], inplace=True)"
   ]
  },
  {
   "cell_type": "code",
   "execution_count": 21,
   "metadata": {
    "colab": {
     "base_uri": "https://localhost:8080/"
    },
    "id": "EPhpZCxdQ7oE",
    "outputId": "da0c49ee-d2c6-482f-ba2f-3492375d6fe5"
   },
   "outputs": [
    {
     "name": "stdout",
     "output_type": "stream",
     "text": [
      "<class 'pandas.core.frame.DataFrame'>\n",
      "Index: 8008 entries, 0 to 8092\n",
      "Data columns (total 9 columns):\n",
      " #   Column           Non-Null Count  Dtype  \n",
      "---  ------           --------------  -----  \n",
      " 0   Company_Name     8008 non-null   object \n",
      " 1   Product_Name     8008 non-null   object \n",
      " 2   Address          8008 non-null   object \n",
      " 3   Product_Price_y  8008 non-null   int32  \n",
      " 4   Quantity         8008 non-null   float64\n",
      " 5   Total_Cost       8008 non-null   float64\n",
      " 6   Month            8008 non-null   int32  \n",
      " 7   Day              8008 non-null   int32  \n",
      " 8   Year             8008 non-null   int32  \n",
      "dtypes: float64(2), int32(4), object(3)\n",
      "memory usage: 500.5+ KB\n"
     ]
    }
   ],
   "source": [
    "df.info()"
   ]
  },
  {
   "cell_type": "code",
   "execution_count": 22,
   "metadata": {
    "colab": {
     "base_uri": "https://localhost:8080/",
     "height": 206
    },
    "id": "XmXwIXWlQ_pD",
    "outputId": "071b17bc-62fd-4e18-de5d-742240a4b90c"
   },
   "outputs": [
    {
     "data": {
      "text/html": [
       "<div>\n",
       "<style scoped>\n",
       "    .dataframe tbody tr th:only-of-type {\n",
       "        vertical-align: middle;\n",
       "    }\n",
       "\n",
       "    .dataframe tbody tr th {\n",
       "        vertical-align: top;\n",
       "    }\n",
       "\n",
       "    .dataframe thead th {\n",
       "        text-align: right;\n",
       "    }\n",
       "</style>\n",
       "<table border=\"1\" class=\"dataframe\">\n",
       "  <thead>\n",
       "    <tr style=\"text-align: right;\">\n",
       "      <th></th>\n",
       "      <th>Company_Name</th>\n",
       "      <th>Product_Name</th>\n",
       "      <th>Address</th>\n",
       "      <th>Product_Price_y</th>\n",
       "      <th>Quantity</th>\n",
       "      <th>Total_Cost</th>\n",
       "      <th>Month</th>\n",
       "      <th>Day</th>\n",
       "      <th>Year</th>\n",
       "    </tr>\n",
       "  </thead>\n",
       "  <tbody>\n",
       "    <tr>\n",
       "      <th>0</th>\n",
       "      <td>Elite Consulting 88</td>\n",
       "      <td>RevenueVue Dashboard</td>\n",
       "      <td>TAGUIG</td>\n",
       "      <td>179200</td>\n",
       "      <td>6.0</td>\n",
       "      <td>1075200.0</td>\n",
       "      <td>3</td>\n",
       "      <td>26</td>\n",
       "      <td>2024</td>\n",
       "    </tr>\n",
       "    <tr>\n",
       "      <th>1</th>\n",
       "      <td>Elite Consulting 88</td>\n",
       "      <td>RevenueVue Dashboard</td>\n",
       "      <td>TAGUIG</td>\n",
       "      <td>179200</td>\n",
       "      <td>20.0</td>\n",
       "      <td>3584000.0</td>\n",
       "      <td>7</td>\n",
       "      <td>17</td>\n",
       "      <td>2024</td>\n",
       "    </tr>\n",
       "    <tr>\n",
       "      <th>2</th>\n",
       "      <td>Elite Consulting 88</td>\n",
       "      <td>RevenueVue Dashboard</td>\n",
       "      <td>TAGUIG</td>\n",
       "      <td>179200</td>\n",
       "      <td>20.0</td>\n",
       "      <td>3584000.0</td>\n",
       "      <td>8</td>\n",
       "      <td>27</td>\n",
       "      <td>2022</td>\n",
       "    </tr>\n",
       "    <tr>\n",
       "      <th>3</th>\n",
       "      <td>Elite Consulting 88</td>\n",
       "      <td>RevenueVue Dashboard</td>\n",
       "      <td>TAGUIG</td>\n",
       "      <td>179200</td>\n",
       "      <td>4.0</td>\n",
       "      <td>716800.0</td>\n",
       "      <td>3</td>\n",
       "      <td>26</td>\n",
       "      <td>2021</td>\n",
       "    </tr>\n",
       "    <tr>\n",
       "      <th>4</th>\n",
       "      <td>Elite Consulting 88</td>\n",
       "      <td>RevenueVue Dashboard</td>\n",
       "      <td>TAGUIG</td>\n",
       "      <td>179200</td>\n",
       "      <td>10.0</td>\n",
       "      <td>1792000.0</td>\n",
       "      <td>5</td>\n",
       "      <td>5</td>\n",
       "      <td>2021</td>\n",
       "    </tr>\n",
       "  </tbody>\n",
       "</table>\n",
       "</div>"
      ],
      "text/plain": [
       "          Company_Name          Product_Name Address  Product_Price_y  \\\n",
       "0  Elite Consulting 88  RevenueVue Dashboard  TAGUIG           179200   \n",
       "1  Elite Consulting 88  RevenueVue Dashboard  TAGUIG           179200   \n",
       "2  Elite Consulting 88  RevenueVue Dashboard  TAGUIG           179200   \n",
       "3  Elite Consulting 88  RevenueVue Dashboard  TAGUIG           179200   \n",
       "4  Elite Consulting 88  RevenueVue Dashboard  TAGUIG           179200   \n",
       "\n",
       "   Quantity  Total_Cost  Month  Day  Year  \n",
       "0       6.0   1075200.0      3   26  2024  \n",
       "1      20.0   3584000.0      7   17  2024  \n",
       "2      20.0   3584000.0      8   27  2022  \n",
       "3       4.0    716800.0      3   26  2021  \n",
       "4      10.0   1792000.0      5    5  2021  "
      ]
     },
     "execution_count": 22,
     "metadata": {},
     "output_type": "execute_result"
    }
   ],
   "source": [
    "df.head()"
   ]
  },
  {
   "cell_type": "markdown",
   "metadata": {
    "id": "H7ExU4crQ3sd"
   },
   "source": [
    "## Predictive Analytics"
   ]
  },
  {
   "cell_type": "markdown",
   "metadata": {
    "id": "SHzvfNeQQ0jM"
   },
   "source": [
    "5. Encode Categorical Features"
   ]
  },
  {
   "cell_type": "code",
   "execution_count": 23,
   "metadata": {
    "id": "l-Utwh4BqYWl"
   },
   "outputs": [],
   "source": [
    "# Label Encoding Company Name and Product Name\n",
    "label_encoder = LabelEncoder()\n",
    "df[\"Company_Name\"] = label_encoder.fit_transform(df[\"Company_Name\"])\n",
    "df[\"Product_Name\"] = label_encoder.fit_transform(df[\"Product_Name\"])"
   ]
  },
  {
   "cell_type": "code",
   "execution_count": 24,
   "metadata": {
    "id": "Yt7WdwWFvdfP"
   },
   "outputs": [],
   "source": [
    "# One-hot encoding for Address\n",
    "df = pd.get_dummies(df, columns=[\"Address\"], drop_first=True, dtype=int)"
   ]
  },
  {
   "cell_type": "code",
   "execution_count": 25,
   "metadata": {
    "colab": {
     "base_uri": "https://localhost:8080/",
     "height": 244
    },
    "id": "ywcm1gKKv2SF",
    "outputId": "1b8b7c82-c82d-4d84-8fd2-78dbe50585c8"
   },
   "outputs": [
    {
     "data": {
      "text/html": [
       "<div>\n",
       "<style scoped>\n",
       "    .dataframe tbody tr th:only-of-type {\n",
       "        vertical-align: middle;\n",
       "    }\n",
       "\n",
       "    .dataframe tbody tr th {\n",
       "        vertical-align: top;\n",
       "    }\n",
       "\n",
       "    .dataframe thead th {\n",
       "        text-align: right;\n",
       "    }\n",
       "</style>\n",
       "<table border=\"1\" class=\"dataframe\">\n",
       "  <thead>\n",
       "    <tr style=\"text-align: right;\">\n",
       "      <th></th>\n",
       "      <th>Company_Name</th>\n",
       "      <th>Product_Name</th>\n",
       "      <th>Product_Price_y</th>\n",
       "      <th>Quantity</th>\n",
       "      <th>Total_Cost</th>\n",
       "      <th>Month</th>\n",
       "      <th>Day</th>\n",
       "      <th>Year</th>\n",
       "      <th>Address_CEBU CITY</th>\n",
       "      <th>Address_DAVAO CITY</th>\n",
       "      <th>Address_MAKATI</th>\n",
       "      <th>Address_MANDALUYONG</th>\n",
       "      <th>Address_MANILA</th>\n",
       "      <th>Address_PARAÑAQUE</th>\n",
       "      <th>Address_PASIG</th>\n",
       "      <th>Address_QUEZON CITY</th>\n",
       "      <th>Address_TAGUIG</th>\n",
       "    </tr>\n",
       "  </thead>\n",
       "  <tbody>\n",
       "    <tr>\n",
       "      <th>0</th>\n",
       "      <td>9</td>\n",
       "      <td>14</td>\n",
       "      <td>179200</td>\n",
       "      <td>6.0</td>\n",
       "      <td>1075200.0</td>\n",
       "      <td>3</td>\n",
       "      <td>26</td>\n",
       "      <td>2024</td>\n",
       "      <td>0</td>\n",
       "      <td>0</td>\n",
       "      <td>0</td>\n",
       "      <td>0</td>\n",
       "      <td>0</td>\n",
       "      <td>0</td>\n",
       "      <td>0</td>\n",
       "      <td>0</td>\n",
       "      <td>1</td>\n",
       "    </tr>\n",
       "    <tr>\n",
       "      <th>1</th>\n",
       "      <td>9</td>\n",
       "      <td>14</td>\n",
       "      <td>179200</td>\n",
       "      <td>20.0</td>\n",
       "      <td>3584000.0</td>\n",
       "      <td>7</td>\n",
       "      <td>17</td>\n",
       "      <td>2024</td>\n",
       "      <td>0</td>\n",
       "      <td>0</td>\n",
       "      <td>0</td>\n",
       "      <td>0</td>\n",
       "      <td>0</td>\n",
       "      <td>0</td>\n",
       "      <td>0</td>\n",
       "      <td>0</td>\n",
       "      <td>1</td>\n",
       "    </tr>\n",
       "    <tr>\n",
       "      <th>2</th>\n",
       "      <td>9</td>\n",
       "      <td>14</td>\n",
       "      <td>179200</td>\n",
       "      <td>20.0</td>\n",
       "      <td>3584000.0</td>\n",
       "      <td>8</td>\n",
       "      <td>27</td>\n",
       "      <td>2022</td>\n",
       "      <td>0</td>\n",
       "      <td>0</td>\n",
       "      <td>0</td>\n",
       "      <td>0</td>\n",
       "      <td>0</td>\n",
       "      <td>0</td>\n",
       "      <td>0</td>\n",
       "      <td>0</td>\n",
       "      <td>1</td>\n",
       "    </tr>\n",
       "    <tr>\n",
       "      <th>3</th>\n",
       "      <td>9</td>\n",
       "      <td>14</td>\n",
       "      <td>179200</td>\n",
       "      <td>4.0</td>\n",
       "      <td>716800.0</td>\n",
       "      <td>3</td>\n",
       "      <td>26</td>\n",
       "      <td>2021</td>\n",
       "      <td>0</td>\n",
       "      <td>0</td>\n",
       "      <td>0</td>\n",
       "      <td>0</td>\n",
       "      <td>0</td>\n",
       "      <td>0</td>\n",
       "      <td>0</td>\n",
       "      <td>0</td>\n",
       "      <td>1</td>\n",
       "    </tr>\n",
       "    <tr>\n",
       "      <th>4</th>\n",
       "      <td>9</td>\n",
       "      <td>14</td>\n",
       "      <td>179200</td>\n",
       "      <td>10.0</td>\n",
       "      <td>1792000.0</td>\n",
       "      <td>5</td>\n",
       "      <td>5</td>\n",
       "      <td>2021</td>\n",
       "      <td>0</td>\n",
       "      <td>0</td>\n",
       "      <td>0</td>\n",
       "      <td>0</td>\n",
       "      <td>0</td>\n",
       "      <td>0</td>\n",
       "      <td>0</td>\n",
       "      <td>0</td>\n",
       "      <td>1</td>\n",
       "    </tr>\n",
       "  </tbody>\n",
       "</table>\n",
       "</div>"
      ],
      "text/plain": [
       "   Company_Name  Product_Name  Product_Price_y  Quantity  Total_Cost  Month  \\\n",
       "0             9            14           179200       6.0   1075200.0      3   \n",
       "1             9            14           179200      20.0   3584000.0      7   \n",
       "2             9            14           179200      20.0   3584000.0      8   \n",
       "3             9            14           179200       4.0    716800.0      3   \n",
       "4             9            14           179200      10.0   1792000.0      5   \n",
       "\n",
       "   Day  Year  Address_CEBU CITY  Address_DAVAO CITY  Address_MAKATI  \\\n",
       "0   26  2024                  0                   0               0   \n",
       "1   17  2024                  0                   0               0   \n",
       "2   27  2022                  0                   0               0   \n",
       "3   26  2021                  0                   0               0   \n",
       "4    5  2021                  0                   0               0   \n",
       "\n",
       "   Address_MANDALUYONG  Address_MANILA  Address_PARAÑAQUE  Address_PASIG  \\\n",
       "0                    0               0                  0              0   \n",
       "1                    0               0                  0              0   \n",
       "2                    0               0                  0              0   \n",
       "3                    0               0                  0              0   \n",
       "4                    0               0                  0              0   \n",
       "\n",
       "   Address_QUEZON CITY  Address_TAGUIG  \n",
       "0                    0               1  \n",
       "1                    0               1  \n",
       "2                    0               1  \n",
       "3                    0               1  \n",
       "4                    0               1  "
      ]
     },
     "execution_count": 25,
     "metadata": {},
     "output_type": "execute_result"
    }
   ],
   "source": [
    "df.head()"
   ]
  },
  {
   "cell_type": "markdown",
   "metadata": {
    "id": "W6BOsOddSOs7"
   },
   "source": [
    "6. Train Machine Learning Model"
   ]
  },
  {
   "cell_type": "code",
   "execution_count": 26,
   "metadata": {
    "id": "G1vws5Lborze"
   },
   "outputs": [],
   "source": [
    "# Define features (X) and target (y)\n",
    "X = df.drop(columns=[\"Product_Name\"])\n",
    "y = df[\"Product_Name\"]"
   ]
  },
  {
   "cell_type": "code",
   "execution_count": 27,
   "metadata": {
    "id": "k0Gu3lgCTBtE"
   },
   "outputs": [],
   "source": [
    "# Scale numerical features\n",
    "scaler = StandardScaler()\n",
    "X_scaled = scaler.fit_transform(X)"
   ]
  },
  {
   "cell_type": "code",
   "execution_count": 28,
   "metadata": {
    "id": "KPeNBejMTIE1"
   },
   "outputs": [],
   "source": [
    "# Train-test split (80% training, 20% testing)\n",
    "X_train, X_test, y_train, y_test = train_test_split(X_scaled, y, test_size=0.2, random_state=42)"
   ]
  },
  {
   "cell_type": "code",
   "execution_count": 29,
   "metadata": {
    "colab": {
     "base_uri": "https://localhost:8080/",
     "height": 80
    },
    "id": "8ayIy-mfTNUc",
    "outputId": "39d589b5-ef58-446a-c9fc-1780f517eaa5"
   },
   "outputs": [
    {
     "data": {
      "text/html": [
       "<style>#sk-container-id-1 {color: black;}#sk-container-id-1 pre{padding: 0;}#sk-container-id-1 div.sk-toggleable {background-color: white;}#sk-container-id-1 label.sk-toggleable__label {cursor: pointer;display: block;width: 100%;margin-bottom: 0;padding: 0.3em;box-sizing: border-box;text-align: center;}#sk-container-id-1 label.sk-toggleable__label-arrow:before {content: \"▸\";float: left;margin-right: 0.25em;color: #696969;}#sk-container-id-1 label.sk-toggleable__label-arrow:hover:before {color: black;}#sk-container-id-1 div.sk-estimator:hover label.sk-toggleable__label-arrow:before {color: black;}#sk-container-id-1 div.sk-toggleable__content {max-height: 0;max-width: 0;overflow: hidden;text-align: left;background-color: #f0f8ff;}#sk-container-id-1 div.sk-toggleable__content pre {margin: 0.2em;color: black;border-radius: 0.25em;background-color: #f0f8ff;}#sk-container-id-1 input.sk-toggleable__control:checked~div.sk-toggleable__content {max-height: 200px;max-width: 100%;overflow: auto;}#sk-container-id-1 input.sk-toggleable__control:checked~label.sk-toggleable__label-arrow:before {content: \"▾\";}#sk-container-id-1 div.sk-estimator input.sk-toggleable__control:checked~label.sk-toggleable__label {background-color: #d4ebff;}#sk-container-id-1 div.sk-label input.sk-toggleable__control:checked~label.sk-toggleable__label {background-color: #d4ebff;}#sk-container-id-1 input.sk-hidden--visually {border: 0;clip: rect(1px 1px 1px 1px);clip: rect(1px, 1px, 1px, 1px);height: 1px;margin: -1px;overflow: hidden;padding: 0;position: absolute;width: 1px;}#sk-container-id-1 div.sk-estimator {font-family: monospace;background-color: #f0f8ff;border: 1px dotted black;border-radius: 0.25em;box-sizing: border-box;margin-bottom: 0.5em;}#sk-container-id-1 div.sk-estimator:hover {background-color: #d4ebff;}#sk-container-id-1 div.sk-parallel-item::after {content: \"\";width: 100%;border-bottom: 1px solid gray;flex-grow: 1;}#sk-container-id-1 div.sk-label:hover label.sk-toggleable__label {background-color: #d4ebff;}#sk-container-id-1 div.sk-serial::before {content: \"\";position: absolute;border-left: 1px solid gray;box-sizing: border-box;top: 0;bottom: 0;left: 50%;z-index: 0;}#sk-container-id-1 div.sk-serial {display: flex;flex-direction: column;align-items: center;background-color: white;padding-right: 0.2em;padding-left: 0.2em;position: relative;}#sk-container-id-1 div.sk-item {position: relative;z-index: 1;}#sk-container-id-1 div.sk-parallel {display: flex;align-items: stretch;justify-content: center;background-color: white;position: relative;}#sk-container-id-1 div.sk-item::before, #sk-container-id-1 div.sk-parallel-item::before {content: \"\";position: absolute;border-left: 1px solid gray;box-sizing: border-box;top: 0;bottom: 0;left: 50%;z-index: -1;}#sk-container-id-1 div.sk-parallel-item {display: flex;flex-direction: column;z-index: 1;position: relative;background-color: white;}#sk-container-id-1 div.sk-parallel-item:first-child::after {align-self: flex-end;width: 50%;}#sk-container-id-1 div.sk-parallel-item:last-child::after {align-self: flex-start;width: 50%;}#sk-container-id-1 div.sk-parallel-item:only-child::after {width: 0;}#sk-container-id-1 div.sk-dashed-wrapped {border: 1px dashed gray;margin: 0 0.4em 0.5em 0.4em;box-sizing: border-box;padding-bottom: 0.4em;background-color: white;}#sk-container-id-1 div.sk-label label {font-family: monospace;font-weight: bold;display: inline-block;line-height: 1.2em;}#sk-container-id-1 div.sk-label-container {text-align: center;}#sk-container-id-1 div.sk-container {/* jupyter's `normalize.less` sets `[hidden] { display: none; }` but bootstrap.min.css set `[hidden] { display: none !important; }` so we also need the `!important` here to be able to override the default hidden behavior on the sphinx rendered scikit-learn.org. See: https://github.com/scikit-learn/scikit-learn/issues/21755 */display: inline-block !important;position: relative;}#sk-container-id-1 div.sk-text-repr-fallback {display: none;}</style><div id=\"sk-container-id-1\" class=\"sk-top-container\"><div class=\"sk-text-repr-fallback\"><pre>RandomForestClassifier(n_estimators=1000, random_state=42)</pre><b>In a Jupyter environment, please rerun this cell to show the HTML representation or trust the notebook. <br />On GitHub, the HTML representation is unable to render, please try loading this page with nbviewer.org.</b></div><div class=\"sk-container\" hidden><div class=\"sk-item\"><div class=\"sk-estimator sk-toggleable\"><input class=\"sk-toggleable__control sk-hidden--visually\" id=\"sk-estimator-id-1\" type=\"checkbox\" checked><label for=\"sk-estimator-id-1\" class=\"sk-toggleable__label sk-toggleable__label-arrow\">RandomForestClassifier</label><div class=\"sk-toggleable__content\"><pre>RandomForestClassifier(n_estimators=1000, random_state=42)</pre></div></div></div></div></div>"
      ],
      "text/plain": [
       "RandomForestClassifier(n_estimators=1000, random_state=42)"
      ]
     },
     "execution_count": 29,
     "metadata": {},
     "output_type": "execute_result"
    }
   ],
   "source": [
    "# Train a Random Forest model\n",
    "model = RandomForestClassifier(n_estimators=1000, random_state=42)\n",
    "model.fit(X_train, y_train)"
   ]
  },
  {
   "cell_type": "code",
   "execution_count": 30,
   "metadata": {
    "colab": {
     "base_uri": "https://localhost:8080/"
    },
    "id": "7ND9eQwyTWOD",
    "outputId": "1f19a14d-29af-4d39-9cf2-2a2fbc256bf6"
   },
   "outputs": [
    {
     "name": "stdout",
     "output_type": "stream",
     "text": [
      "Model Accuracy: 0.787765293383271\n"
     ]
    }
   ],
   "source": [
    "# Make predictions\n",
    "y_pred = model.predict(X_test)\n",
    "\n",
    "# Evaluate model accuracy\n",
    "accuracy = accuracy_score(y_test, y_pred)\n",
    "print(\"Model Accuracy:\", accuracy)"
   ]
  },
  {
   "cell_type": "markdown",
   "metadata": {
    "id": "kovr9U-2Tyr0"
   },
   "source": [
    "7. Predict Using Manual Input"
   ]
  },
  {
   "cell_type": "code",
   "execution_count": 31,
   "metadata": {
    "colab": {
     "base_uri": "https://localhost:8080/"
    },
    "id": "062R6j0oTqtM",
    "outputId": "d0db3583-c48a-402e-f3ae-a4f1cd1b6478"
   },
   "outputs": [
    {
     "name": "stdout",
     "output_type": "stream",
     "text": [
      "Predicted Product: [6]\n"
     ]
    }
   ],
   "source": [
    "# Example manual input: Predict what Tech Enterprises 1 would likely purchase\n",
    "manual_input = [[1, 100000, 10, 1000000, 3, 30, 2025, 0, 0, 0, 0, 0, 0, 1, 0, 0]]\n",
    "predicted_product = model.predict(manual_input)\n",
    "\n",
    "print(\"Predicted Product:\", predicted_product)"
   ]
  },
  {
   "cell_type": "markdown",
   "metadata": {
    "id": "ost5AVE3DvEL"
   },
   "source": [
    "Predicting what Tech Enterprises 1 would likely purchase with 10 quantities and total budget of 1,000,000 on March 30, 2025 would give us RevenueVue Dashboard"
   ]
  },
  {
   "cell_type": "markdown",
   "metadata": {
    "id": "9gDam5L1lnLA"
   },
   "source": [
    "## Time Series Analysis"
   ]
  },
  {
   "cell_type": "markdown",
   "metadata": {
    "id": "eAqsRvbtWFuX"
   },
   "source": [
    "8. Preprocess data"
   ]
  },
  {
   "cell_type": "code",
   "execution_count": 32,
   "metadata": {
    "id": "Panv0KYblwVs"
   },
   "outputs": [],
   "source": [
    "# Merge transactions with customers and products data\n",
    "transactions = transactions.merge(products, on='Product_ID').merge(customers, on='Company_ID')\n",
    "\n",
    "# Fill missing Total_Cost values based on Quantity * Product_Price\n",
    "transactions['Total_Cost'] = transactions['Total_Cost'].fillna(transactions['Product_Price_y'] * transactions['Quantity'])\n",
    "\n",
    "# Recalculate Quantity where necessary\n",
    "transactions['Quantity'] = transactions['Total_Cost'] / transactions['Product_Price_y']\n",
    "\n",
    "# Keep only relevant columns\n",
    "transactions= transactions[['Transaction_Date', 'Total_Cost']]"
   ]
  },
  {
   "cell_type": "code",
   "execution_count": 33,
   "metadata": {
    "id": "i1h-vLdQlCLb"
   },
   "outputs": [],
   "source": [
    "# Converting to date datatype\n",
    "transactions['Transaction_Date']= pd.to_datetime(transactions['Transaction_Date'], format= 'mixed')\n",
    "transactions= transactions.set_index('Transaction_Date')"
   ]
  },
  {
   "cell_type": "code",
   "execution_count": 34,
   "metadata": {
    "id": "7uwiGNq-qme5"
   },
   "outputs": [],
   "source": [
    "# Dropping null values\n",
    "transactions.dropna(subset= ['Total_Cost'], inplace= True)\n",
    "\n",
    "#Sorting data\n",
    "transactions= transactions.sort_index()"
   ]
  },
  {
   "cell_type": "markdown",
   "metadata": {
    "id": "GA9bFRtyWLos"
   },
   "source": [
    "9. Plot data"
   ]
  },
  {
   "cell_type": "code",
   "execution_count": 42,
   "metadata": {
    "colab": {
     "base_uri": "https://localhost:8080/",
     "height": 380
    },
    "id": "gl37ik_arltT",
    "outputId": "879582f0-b15a-4913-f2b9-7e2806f1a115"
   },
   "outputs": [
    {
     "data": {
      "image/png": "[encoded data removed]",
      "text/plain": [
       "<Figure size 1500x500 with 1 Axes>"
      ]
     },
     "metadata": {},
     "output_type": "display_data"
    }
   ],
   "source": [
    "# Plotting the monthly sales\n",
    "df_weekly = transactions.resample(\"W\")[\"Total_Cost\"].sum()\n",
    "plt.figure(figsize= (15,5))\n",
    "sns.lineplot(data= df_weekly, color=\"g\", label=\"Weekly Sales\")\n",
    "plt.xlabel(\"Date\")\n",
    "plt.ylabel(\"Total Sales\")\n",
    "plt.title(\"Weekly Sales Trend\")\n",
    "plt.grid(True)\n",
    "plt.legend()\n",
    "plt.show()"
   ]
  },
  {
   "cell_type": "markdown",
   "metadata": {},
   "source": [
    "10. Perform analysis with ARIMA"
   ]
  },
  {
   "cell_type": "code",
   "execution_count": 36,
   "metadata": {
    "colab": {
     "base_uri": "https://localhost:8080/"
    },
    "id": "T235VtSCUgpZ",
    "outputId": "6b39139a-920d-4b11-a976-2a8fd59bdc2a"
   },
   "outputs": [
    {
     "data": {
      "text/plain": [
       "{'ADF Statistic': -3.2228692795880978,\n",
       " 'p-value': 0.018698496565395416,\n",
       " 'Critical Values': {'1%': -3.434031147125674,\n",
       "  '5%': -2.863166021720215,\n",
       "  '10%': -2.5676356430449427},\n",
       " 'Stationary': True}"
      ]
     },
     "execution_count": 36,
     "metadata": {},
     "output_type": "execute_result"
    }
   ],
   "source": [
    "from statsmodels.tsa.stattools import adfuller\n",
    "\n",
    "# Perform the Augmented Dickey-Fuller test\n",
    "df_daily = transactions.resample(\"D\")[\"Total_Cost\"].sum()\n",
    "adf_result = adfuller(df_daily)\n",
    "\n",
    "# Display ADF test results\n",
    "adf_output = {\n",
    "    \"ADF Statistic\": adf_result[0],\n",
    "    \"p-value\": adf_result[1],\n",
    "    \"Critical Values\": adf_result[4],\n",
    "    \"Stationary\": adf_result[1] < 0.05\n",
    "}\n",
    "\n",
    "adf_output"
   ]
  },
  {
   "cell_type": "markdown",
   "metadata": {},
   "source": [
    "ADF Test Results show that the data is already stationary, d = 0 in ARIMA (no need for differencing)."
   ]
  },
  {
   "cell_type": "code",
   "execution_count": 37,
   "metadata": {
    "colab": {
     "base_uri": "https://localhost:8080/",
     "height": 441
    },
    "id": "PrbaXsv9Xj3Z",
    "outputId": "fcdabfcb-348c-47cb-df17-b4d892780415"
   },
   "outputs": [
    {
     "data": {
      "image/png": "[encoded data removed]",
      "text/plain": [
       "<Figure size 1200x500 with 2 Axes>"
      ]
     },
     "metadata": {},
     "output_type": "display_data"
    }
   ],
   "source": [
    "from statsmodels.graphics.tsaplots import plot_acf, plot_pacf\n",
    "\n",
    "# Plot ACF and PACF to determine p and q values\n",
    "fig, axes = plt.subplots(1, 2, figsize=(12, 5))\n",
    "plot_acf(df_daily, ax=axes[0])\n",
    "plot_pacf(df_daily, ax=axes[1])\n",
    "plt.show()"
   ]
  },
  {
   "cell_type": "markdown",
   "metadata": {},
   "source": [
    "The ACF and PACF plots will help identify the appropriate values for p (autoregressive order) and q. To automate the selection process we will next use auto_arima from pmdarima"
   ]
  },
  {
   "cell_type": "code",
   "execution_count": 38,
   "metadata": {},
   "outputs": [
    {
     "name": "stdout",
     "output_type": "stream",
     "text": [
      "Performing stepwise search to minimize aic\n",
      " ARIMA(2,1,2)(0,0,0)[0] intercept   : AIC=59366.417, Time=0.89 sec\n",
      " ARIMA(0,1,0)(0,0,0)[0] intercept   : AIC=60498.764, Time=0.08 sec\n",
      " ARIMA(1,1,0)(0,0,0)[0] intercept   : AIC=59973.534, Time=0.17 sec\n",
      " ARIMA(0,1,1)(0,0,0)[0] intercept   : AIC=59378.899, Time=0.31 sec\n",
      " ARIMA(0,1,0)(0,0,0)[0]             : AIC=60496.764, Time=0.05 sec\n",
      " ARIMA(1,1,2)(0,0,0)[0] intercept   : AIC=inf, Time=1.18 sec\n",
      " ARIMA(2,1,1)(0,0,0)[0] intercept   : AIC=59382.663, Time=0.61 sec\n",
      " ARIMA(3,1,2)(0,0,0)[0] intercept   : AIC=59368.215, Time=0.77 sec\n",
      " ARIMA(2,1,3)(0,0,0)[0] intercept   : AIC=59357.950, Time=3.54 sec\n",
      " ARIMA(1,1,3)(0,0,0)[0] intercept   : AIC=inf, Time=1.33 sec\n",
      " ARIMA(3,1,3)(0,0,0)[0] intercept   : AIC=59359.857, Time=3.64 sec\n",
      " ARIMA(2,1,4)(0,0,0)[0] intercept   : AIC=59359.841, Time=4.05 sec\n",
      " ARIMA(1,1,4)(0,0,0)[0] intercept   : AIC=59363.953, Time=0.67 sec\n",
      " ARIMA(3,1,4)(0,0,0)[0] intercept   : AIC=59366.718, Time=0.97 sec\n",
      " ARIMA(2,1,3)(0,0,0)[0]             : AIC=59355.960, Time=3.04 sec\n",
      " ARIMA(1,1,3)(0,0,0)[0]             : AIC=inf, Time=1.14 sec\n",
      " ARIMA(2,1,2)(0,0,0)[0]             : AIC=59364.414, Time=0.42 sec\n",
      " ARIMA(3,1,3)(0,0,0)[0]             : AIC=59357.885, Time=3.61 sec\n",
      " ARIMA(2,1,4)(0,0,0)[0]             : AIC=59357.835, Time=4.44 sec\n",
      " ARIMA(1,1,2)(0,0,0)[0]             : AIC=inf, Time=1.03 sec\n",
      " ARIMA(1,1,4)(0,0,0)[0]             : AIC=59361.865, Time=0.61 sec\n",
      " ARIMA(3,1,2)(0,0,0)[0]             : AIC=59366.212, Time=0.70 sec\n",
      " ARIMA(3,1,4)(0,0,0)[0]             : AIC=59364.662, Time=0.95 sec\n",
      "\n",
      "Best model:  ARIMA(2,1,3)(0,0,0)[0]          \n",
      "Total fit time: 34.291 seconds\n",
      "                               SARIMAX Results                                \n",
      "==============================================================================\n",
      "Dep. Variable:                      y   No. Observations:                 1796\n",
      "Model:               SARIMAX(2, 1, 3)   Log Likelihood              -29671.980\n",
      "Date:                Thu, 20 Mar 2025   AIC                          59355.960\n",
      "Time:                        12:43:21   BIC                          59388.917\n",
      "Sample:                             0   HQIC                         59368.128\n",
      "                               - 1796                                         \n",
      "Covariance Type:                  opg                                         \n",
      "==============================================================================\n",
      "                 coef    std err          z      P>|z|      [0.025      0.975]\n",
      "------------------------------------------------------------------------------\n",
      "ar.L1         -1.1818      0.021    -55.535      0.000      -1.224      -1.140\n",
      "ar.L2         -0.9617      0.021    -46.481      0.000      -1.002      -0.921\n",
      "ma.L1          0.2495      0.018     13.864      0.000       0.214       0.285\n",
      "ma.L2         -0.1473      0.017     -8.638      0.000      -0.181      -0.114\n",
      "ma.L3         -0.9242      0.016    -58.721      0.000      -0.955      -0.893\n",
      "sigma2      1.407e+13   2.63e-17   5.34e+29      0.000    1.41e+13    1.41e+13\n",
      "===================================================================================\n",
      "Ljung-Box (L1) (Q):                   0.25   Jarque-Bera (JB):               324.87\n",
      "Prob(Q):                              0.62   Prob(JB):                         0.00\n",
      "Heteroskedasticity (H):               1.64   Skew:                             0.78\n",
      "Prob(H) (two-sided):                  0.00   Kurtosis:                         4.38\n",
      "===================================================================================\n",
      "\n",
      "Warnings:\n",
      "[1] Covariance matrix calculated using the outer product of gradients (complex-step).\n",
      "[2] Covariance matrix is singular or near-singular, with condition number 4.31e+44. Standard errors may be unstable.\n"
     ]
    }
   ],
   "source": [
    "from pmdarima import auto_arima\n",
    "\n",
    "# Fit Auto-ARIMA model\n",
    "auto_model = auto_arima(df_daily.values, seasonal=False, trace=True, suppress_warnings=True)\n",
    "print(auto_model.summary())"
   ]
  },
  {
   "cell_type": "markdown",
   "metadata": {},
   "source": [
    "Summary shows that the best values for ARIMA is (2,1,3). But our earlier analysis showed that the data is stationary. But using the ACF plot we can see that the autocorrelation values decline very slowly which suggests the presence of a trend, which means differencing (d=1) might be needed. Therefore we will use (2,1,3)"
   ]
  },
  {
   "cell_type": "code",
   "execution_count": 39,
   "metadata": {},
   "outputs": [
    {
     "name": "stderr",
     "output_type": "stream",
     "text": [
      "C:\\Users\\KrisChan\\AppData\\Roaming\\jupyterlab-desktop\\jlab_server\\lib\\site-packages\\statsmodels\\base\\model.py:607: ConvergenceWarning: Maximum Likelihood optimization failed to converge. Check mle_retvals\n",
      "  warnings.warn(\"Maximum Likelihood optimization failed to \"\n"
     ]
    },
    {
     "data": {
      "text/html": [
       "<table class=\"simpletable\">\n",
       "<caption>SARIMAX Results</caption>\n",
       "<tr>\n",
       "  <th>Dep. Variable:</th>      <td>Total_Cost</td>    <th>  No. Observations:  </th>    <td>1796</td>   \n",
       "</tr>\n",
       "<tr>\n",
       "  <th>Model:</th>            <td>ARIMA(2, 1, 3)</td>  <th>  Log Likelihood     </th> <td>-29671.980</td>\n",
       "</tr>\n",
       "<tr>\n",
       "  <th>Date:</th>            <td>Thu, 20 Mar 2025</td> <th>  AIC                </th>  <td>59355.960</td>\n",
       "</tr>\n",
       "<tr>\n",
       "  <th>Time:</th>                <td>12:43:24</td>     <th>  BIC                </th>  <td>59388.917</td>\n",
       "</tr>\n",
       "<tr>\n",
       "  <th>Sample:</th>             <td>01-11-2020</td>    <th>  HQIC               </th>  <td>59368.128</td>\n",
       "</tr>\n",
       "<tr>\n",
       "  <th></th>                   <td>- 12-10-2024</td>   <th>                     </th>      <td> </td>    \n",
       "</tr>\n",
       "<tr>\n",
       "  <th>Covariance Type:</th>        <td>opg</td>       <th>                     </th>      <td> </td>    \n",
       "</tr>\n",
       "</table>\n",
       "<table class=\"simpletable\">\n",
       "<tr>\n",
       "     <td></td>       <th>coef</th>     <th>std err</th>      <th>z</th>      <th>P>|z|</th>  <th>[0.025</th>    <th>0.975]</th>  \n",
       "</tr>\n",
       "<tr>\n",
       "  <th>ar.L1</th>  <td>   -1.1818</td> <td>    0.021</td> <td>  -55.535</td> <td> 0.000</td> <td>   -1.224</td> <td>   -1.140</td>\n",
       "</tr>\n",
       "<tr>\n",
       "  <th>ar.L2</th>  <td>   -0.9617</td> <td>    0.021</td> <td>  -46.481</td> <td> 0.000</td> <td>   -1.002</td> <td>   -0.921</td>\n",
       "</tr>\n",
       "<tr>\n",
       "  <th>ma.L1</th>  <td>    0.2495</td> <td>    0.018</td> <td>   13.864</td> <td> 0.000</td> <td>    0.214</td> <td>    0.285</td>\n",
       "</tr>\n",
       "<tr>\n",
       "  <th>ma.L2</th>  <td>   -0.1473</td> <td>    0.017</td> <td>   -8.638</td> <td> 0.000</td> <td>   -0.181</td> <td>   -0.114</td>\n",
       "</tr>\n",
       "<tr>\n",
       "  <th>ma.L3</th>  <td>   -0.9242</td> <td>    0.016</td> <td>  -58.721</td> <td> 0.000</td> <td>   -0.955</td> <td>   -0.893</td>\n",
       "</tr>\n",
       "<tr>\n",
       "  <th>sigma2</th> <td> 1.407e+13</td> <td> 2.63e-17</td> <td> 5.34e+29</td> <td> 0.000</td> <td> 1.41e+13</td> <td> 1.41e+13</td>\n",
       "</tr>\n",
       "</table>\n",
       "<table class=\"simpletable\">\n",
       "<tr>\n",
       "  <th>Ljung-Box (L1) (Q):</th>     <td>0.25</td> <th>  Jarque-Bera (JB):  </th> <td>324.87</td>\n",
       "</tr>\n",
       "<tr>\n",
       "  <th>Prob(Q):</th>                <td>0.62</td> <th>  Prob(JB):          </th>  <td>0.00</td> \n",
       "</tr>\n",
       "<tr>\n",
       "  <th>Heteroskedasticity (H):</th> <td>1.64</td> <th>  Skew:              </th>  <td>0.78</td> \n",
       "</tr>\n",
       "<tr>\n",
       "  <th>Prob(H) (two-sided):</th>    <td>0.00</td> <th>  Kurtosis:          </th>  <td>4.38</td> \n",
       "</tr>\n",
       "</table><br/><br/>Warnings:<br/>[1] Covariance matrix calculated using the outer product of gradients (complex-step).<br/>[2] Covariance matrix is singular or near-singular, with condition number 4.31e+44. Standard errors may be unstable."
      ],
      "text/latex": [
       "\\begin{center}\n",
       "\\begin{tabular}{lclc}\n",
       "\\toprule\n",
       "\\textbf{Dep. Variable:}          &   Total\\_Cost    & \\textbf{  No. Observations:  } &    1796     \\\\\n",
       "\\textbf{Model:}                  &  ARIMA(2, 1, 3)  & \\textbf{  Log Likelihood     } & -29671.980  \\\\\n",
       "\\textbf{Date:}                   & Thu, 20 Mar 2025 & \\textbf{  AIC                } & 59355.960   \\\\\n",
       "\\textbf{Time:}                   &     12:43:24     & \\textbf{  BIC                } & 59388.917   \\\\\n",
       "\\textbf{Sample:}                 &    01-11-2020    & \\textbf{  HQIC               } & 59368.128   \\\\\n",
       "\\textbf{}                        &   - 12-10-2024   & \\textbf{                     } &             \\\\\n",
       "\\textbf{Covariance Type:}        &       opg        & \\textbf{                     } &             \\\\\n",
       "\\bottomrule\n",
       "\\end{tabular}\n",
       "\\begin{tabular}{lcccccc}\n",
       "                & \\textbf{coef} & \\textbf{std err} & \\textbf{z} & \\textbf{P$> |$z$|$} & \\textbf{[0.025} & \\textbf{0.975]}  \\\\\n",
       "\\midrule\n",
       "\\textbf{ar.L1}  &      -1.1818  &        0.021     &   -55.535  &         0.000        &       -1.224    &       -1.140     \\\\\n",
       "\\textbf{ar.L2}  &      -0.9617  &        0.021     &   -46.481  &         0.000        &       -1.002    &       -0.921     \\\\\n",
       "\\textbf{ma.L1}  &       0.2495  &        0.018     &    13.864  &         0.000        &        0.214    &        0.285     \\\\\n",
       "\\textbf{ma.L2}  &      -0.1473  &        0.017     &    -8.638  &         0.000        &       -0.181    &       -0.114     \\\\\n",
       "\\textbf{ma.L3}  &      -0.9242  &        0.016     &   -58.721  &         0.000        &       -0.955    &       -0.893     \\\\\n",
       "\\textbf{sigma2} &    1.407e+13  &     2.63e-17     &  5.34e+29  &         0.000        &     1.41e+13    &     1.41e+13     \\\\\n",
       "\\bottomrule\n",
       "\\end{tabular}\n",
       "\\begin{tabular}{lclc}\n",
       "\\textbf{Ljung-Box (L1) (Q):}     & 0.25 & \\textbf{  Jarque-Bera (JB):  } & 324.87  \\\\\n",
       "\\textbf{Prob(Q):}                & 0.62 & \\textbf{  Prob(JB):          } &  0.00   \\\\\n",
       "\\textbf{Heteroskedasticity (H):} & 1.64 & \\textbf{  Skew:              } &  0.78   \\\\\n",
       "\\textbf{Prob(H) (two-sided):}    & 0.00 & \\textbf{  Kurtosis:          } &  4.38   \\\\\n",
       "\\bottomrule\n",
       "\\end{tabular}\n",
       "%\\caption{SARIMAX Results}\n",
       "\\end{center}\n",
       "\n",
       "Warnings: \\newline\n",
       " [1] Covariance matrix calculated using the outer product of gradients (complex-step). \\newline\n",
       " [2] Covariance matrix is singular or near-singular, with condition number 4.31e+44. Standard errors may be unstable."
      ],
      "text/plain": [
       "<class 'statsmodels.iolib.summary.Summary'>\n",
       "\"\"\"\n",
       "                               SARIMAX Results                                \n",
       "==============================================================================\n",
       "Dep. Variable:             Total_Cost   No. Observations:                 1796\n",
       "Model:                 ARIMA(2, 1, 3)   Log Likelihood              -29671.980\n",
       "Date:                Thu, 20 Mar 2025   AIC                          59355.960\n",
       "Time:                        12:43:24   BIC                          59388.917\n",
       "Sample:                    01-11-2020   HQIC                         59368.128\n",
       "                         - 12-10-2024                                         \n",
       "Covariance Type:                  opg                                         \n",
       "==============================================================================\n",
       "                 coef    std err          z      P>|z|      [0.025      0.975]\n",
       "------------------------------------------------------------------------------\n",
       "ar.L1         -1.1818      0.021    -55.535      0.000      -1.224      -1.140\n",
       "ar.L2         -0.9617      0.021    -46.481      0.000      -1.002      -0.921\n",
       "ma.L1          0.2495      0.018     13.864      0.000       0.214       0.285\n",
       "ma.L2         -0.1473      0.017     -8.638      0.000      -0.181      -0.114\n",
       "ma.L3         -0.9242      0.016    -58.721      0.000      -0.955      -0.893\n",
       "sigma2      1.407e+13   2.63e-17   5.34e+29      0.000    1.41e+13    1.41e+13\n",
       "===================================================================================\n",
       "Ljung-Box (L1) (Q):                   0.25   Jarque-Bera (JB):               324.87\n",
       "Prob(Q):                              0.62   Prob(JB):                         0.00\n",
       "Heteroskedasticity (H):               1.64   Skew:                             0.78\n",
       "Prob(H) (two-sided):                  0.00   Kurtosis:                         4.38\n",
       "===================================================================================\n",
       "\n",
       "Warnings:\n",
       "[1] Covariance matrix calculated using the outer product of gradients (complex-step).\n",
       "[2] Covariance matrix is singular or near-singular, with condition number 4.31e+44. Standard errors may be unstable.\n",
       "\"\"\""
      ]
     },
     "execution_count": 39,
     "metadata": {},
     "output_type": "execute_result"
    }
   ],
   "source": [
    "from statsmodels.tsa.arima.model import ARIMA\n",
    "\n",
    "# Define and fit the ARIMA model (using estimated values from ACF/PACF)\n",
    "model_arima = ARIMA(df_daily, order=(2, 1, 3))\n",
    "model_fit = model_arima.fit()\n",
    "\n",
    "# Display summary of the ARIMA model\n",
    "model_fit.summary()"
   ]
  },
  {
   "cell_type": "code",
   "execution_count": 40,
   "metadata": {},
   "outputs": [
    {
     "data": {
      "image/png": "[encoded data removed]",
      "text/plain": [
       "<Figure size 1200x500 with 1 Axes>"
      ]
     },
     "metadata": {},
     "output_type": "display_data"
    }
   ],
   "source": [
    "# Resample actual data to weekly frequency (sum of Total_Cost per week)\n",
    "df_weekly = df_daily.resample(\"W\").sum()\n",
    "\n",
    "forecast_steps = 180\n",
    "forecast = model_fit.forecast(steps=forecast_steps)\n",
    "\n",
    "\n",
    "# Resample forecast to weekly frequency\n",
    "forecast_weekly = forecast.resample(\"W\").sum()\n",
    "\n",
    "# Create a date index for weekly forecast\n",
    "forecast_weekly_dates = pd.date_range(start=df_weekly.index[-1], periods=len(forecast_weekly)+1, freq=\"W\")[1:]\n",
    "\n",
    "# Create a date index for weekly forecast\n",
    "forecast_weekly_dates = forecast_weekly.index\n",
    "\n",
    "# Plot weekly actual vs. forecasted values\n",
    "plt.figure(figsize=(12, 5))\n",
    "plt.plot(df_weekly.index, df_weekly, label=\"Actual (Weekly)\", color=\"blue\")\n",
    "plt.plot(forecast_weekly_dates, forecast_weekly, label=\"Forecast (Weekly)\", color=\"red\", linestyle=\"dashed\")\n",
    "plt.xlabel(\"Date\")\n",
    "plt.ylabel(\"Total Cost (Weekly)\")\n",
    "plt.title(\"ARIMA Model Forecast (Weekly Aggregation)\")\n",
    "plt.legend()\n",
    "plt.show()"
   ]
  },
  {
   "cell_type": "markdown",
   "metadata": {
    "id": "X5m11RZMWbew"
   },
   "source": [
    "The model predicts after the steep decline, predicted sales will show an upward trend, but will remain flat for next 6 months"
   ]
  }
 ],
 "metadata": {
  "colab": {
   "provenance": []
  },
  "kernelspec": {
   "display_name": "Python 3 (ipykernel)",
   "language": "python",
   "name": "python3"
  },
  "language_info": {
   "codemirror_mode": {
    "name": "ipython",
    "version": 3
   },
   "file_extension": ".py",
   "mimetype": "text/x-python",
   "name": "python",
   "nbconvert_exporter": "python",
   "pygments_lexer": "ipython3",
   "version": "3.8.17"
  }
 },
 "nbformat": 4,
 "nbformat_minor": 4
}
